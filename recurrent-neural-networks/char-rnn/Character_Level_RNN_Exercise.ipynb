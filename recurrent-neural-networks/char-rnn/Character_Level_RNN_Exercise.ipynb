{
  "nbformat": 4,
  "nbformat_minor": 0,
  "metadata": {
    "kernelspec": {
      "display_name": "Python [default]",
      "language": "python",
      "name": "python3"
    },
    "language_info": {
      "codemirror_mode": {
        "name": "ipython",
        "version": 3
      },
      "file_extension": ".py",
      "mimetype": "text/x-python",
      "name": "python",
      "nbconvert_exporter": "python",
      "pygments_lexer": "ipython3",
      "version": "3.6.4"
    },
    "colab": {
      "name": "Character_Level_RNN_Exercise.ipynb",
      "provenance": [],
      "collapsed_sections": [],
      "toc_visible": true
    },
    "accelerator": "GPU"
  },
  "cells": [
    {
      "cell_type": "markdown",
      "metadata": {
        "id": "arVIhLJLWx8L",
        "colab_type": "text"
      },
      "source": [
        "# Character-Level LSTM in PyTorch\n",
        "\n",
        "In this notebook, I'll construct a character-level LSTM with PyTorch. The network will train character by character on some text, then generate new text character by character. As an example, I will train on Anna Karenina. **This model will be able to generate new text based on the text from the book!**\n",
        "\n",
        "This network is based off of Andrej Karpathy's [post on RNNs](http://karpathy.github.io/2015/05/21/rnn-effectiveness/) and [implementation in Torch](https://github.com/karpathy/char-rnn). Below is the general architecture of the character-wise RNN.\n",
        "\n",
        "<img src=\"assets/charseq.jpeg\" width=\"500\">"
      ]
    },
    {
      "cell_type": "markdown",
      "metadata": {
        "id": "AXuNAmJVWx8M",
        "colab_type": "text"
      },
      "source": [
        "First let's load in our required resources for data loading and model creation."
      ]
    },
    {
      "cell_type": "code",
      "metadata": {
        "id": "sL4zbrahWx8N",
        "colab_type": "code",
        "colab": {}
      },
      "source": [
        "import numpy as np\n",
        "import torch\n",
        "from torch import nn\n",
        "import torch.nn.functional as F"
      ],
      "execution_count": 1,
      "outputs": []
    },
    {
      "cell_type": "markdown",
      "metadata": {
        "id": "G1UnQCw1Wx8R",
        "colab_type": "text"
      },
      "source": [
        "## Load in Data\n",
        "\n",
        "Then, we'll load the Anna Karenina text file and convert it into integers for our network to use. "
      ]
    },
    {
      "cell_type": "code",
      "metadata": {
        "id": "mjR6olM9Wx8R",
        "colab_type": "code",
        "colab": {}
      },
      "source": [
        "# open text file and read in data as `text`\n",
        "with open('data/anna.txt', 'r') as f:\n",
        "    text = f.read()"
      ],
      "execution_count": 2,
      "outputs": []
    },
    {
      "cell_type": "markdown",
      "metadata": {
        "id": "hI-pS6iXWx8U",
        "colab_type": "text"
      },
      "source": [
        "Let's check out the first 100 characters, make sure everything is peachy. According to the [American Book Review](http://americanbookreview.org/100bestlines.asp), this is the 6th best first line of a book ever."
      ]
    },
    {
      "cell_type": "code",
      "metadata": {
        "id": "9StlA2OmWx8U",
        "colab_type": "code",
        "colab": {
          "base_uri": "https://localhost:8080/",
          "height": 35
        },
        "outputId": "3536c154-4bf5-484d-ba02-7dd54104cd0e"
      },
      "source": [
        "text[:100]"
      ],
      "execution_count": 3,
      "outputs": [
        {
          "output_type": "execute_result",
          "data": {
            "application/vnd.google.colaboratory.intrinsic+json": {
              "type": "string"
            },
            "text/plain": [
              "'Chapter 1\\n\\n\\nHappy families are all alike; every unhappy family is unhappy in its own\\nway.\\n\\nEverythin'"
            ]
          },
          "metadata": {
            "tags": []
          },
          "execution_count": 3
        }
      ]
    },
    {
      "cell_type": "markdown",
      "metadata": {
        "id": "-8m10wJxWx8X",
        "colab_type": "text"
      },
      "source": [
        "### Tokenization\n",
        "\n",
        "In the cells, below, I'm creating a couple **dictionaries** to convert the characters to and from integers. Encoding the characters as integers makes it easier to use as input in the network."
      ]
    },
    {
      "cell_type": "code",
      "metadata": {
        "id": "xLBgA-tlWx8Z",
        "colab_type": "code",
        "colab": {}
      },
      "source": [
        "# encode the text and map each character to an integer and vice versa\n",
        "\n",
        "# we create two dictionaries:\n",
        "# 1. int2char, which maps integers to characters\n",
        "# 2. char2int, which maps characters to unique integers\n",
        "chars = tuple(set(text))\n",
        "int2char = dict(enumerate(chars))\n",
        "char2int = {ch: ii for ii, ch in int2char.items()}\n",
        "\n",
        "# encode the text\n",
        "encoded = np.array([char2int[ch] for ch in text])"
      ],
      "execution_count": 4,
      "outputs": []
    },
    {
      "cell_type": "markdown",
      "metadata": {
        "id": "fLnOwOziWx8c",
        "colab_type": "text"
      },
      "source": [
        "And we can see those same characters from above, encoded as integers."
      ]
    },
    {
      "cell_type": "code",
      "metadata": {
        "id": "gbrrXeQfWx8c",
        "colab_type": "code",
        "colab": {
          "base_uri": "https://localhost:8080/",
          "height": 123
        },
        "outputId": "aa334385-527a-4fdc-c8d8-29e101791031"
      },
      "source": [
        "encoded[:100]"
      ],
      "execution_count": 5,
      "outputs": [
        {
          "output_type": "execute_result",
          "data": {
            "text/plain": [
              "array([66, 41, 81, 23, 76, 31, 46, 16, 17, 67, 67, 67, 79, 81, 23, 23,  0,\n",
              "       16, 53, 81, 44, 10, 35, 10, 31,  3, 16, 81, 46, 31, 16, 81, 35, 35,\n",
              "       16, 81, 35, 10, 69, 31, 12, 16, 31, 24, 31, 46,  0, 16, 40, 19, 41,\n",
              "       81, 23, 23,  0, 16, 53, 81, 44, 10, 35,  0, 16, 10,  3, 16, 40, 19,\n",
              "       41, 81, 23, 23,  0, 16, 10, 19, 16, 10, 76,  3, 16,  9, 56, 19, 67,\n",
              "       56, 81,  0, 13, 67, 67, 52, 24, 31, 46,  0, 76, 41, 10, 19])"
            ]
          },
          "metadata": {
            "tags": []
          },
          "execution_count": 5
        }
      ]
    },
    {
      "cell_type": "markdown",
      "metadata": {
        "id": "j_P1DXqrWx8f",
        "colab_type": "text"
      },
      "source": [
        "## Pre-processing the data\n",
        "\n",
        "As you can see in our char-RNN image above, our LSTM expects an input that is **one-hot encoded** meaning that each character is converted into an integer (via our created dictionary) and *then* converted into a column vector where only it's corresponding integer index will have the value of 1 and the rest of the vector will be filled with 0's. Since we're one-hot encoding the data, let's make a function to do that!\n"
      ]
    },
    {
      "cell_type": "code",
      "metadata": {
        "id": "jNaMDWrfWx8g",
        "colab_type": "code",
        "colab": {}
      },
      "source": [
        "def one_hot_encode(arr, n_labels):\n",
        "    \n",
        "    # Initialize the the encoded array\n",
        "    one_hot = np.zeros((arr.size, n_labels), dtype=np.float32)\n",
        "    \n",
        "    # Fill the appropriate elements with ones\n",
        "    one_hot[np.arange(one_hot.shape[0]), arr.flatten()] = 1.\n",
        "    \n",
        "    # Finally reshape it to get back to the original array\n",
        "    one_hot = one_hot.reshape((*arr.shape, n_labels))\n",
        "    \n",
        "    return one_hot"
      ],
      "execution_count": 6,
      "outputs": []
    },
    {
      "cell_type": "code",
      "metadata": {
        "id": "R_VsDsPqWx8j",
        "colab_type": "code",
        "colab": {
          "base_uri": "https://localhost:8080/",
          "height": 70
        },
        "outputId": "80e802e8-588f-4b83-e4ab-ab724c1750b9"
      },
      "source": [
        "# check that the function works as expected\n",
        "test_seq = np.array([[3, 5, 1]])\n",
        "one_hot = one_hot_encode(test_seq, 8)\n",
        "\n",
        "print(one_hot)"
      ],
      "execution_count": 7,
      "outputs": [
        {
          "output_type": "stream",
          "text": [
            "[[[0. 0. 0. 1. 0. 0. 0. 0.]\n",
            "  [0. 0. 0. 0. 0. 1. 0. 0.]\n",
            "  [0. 1. 0. 0. 0. 0. 0. 0.]]]\n"
          ],
          "name": "stdout"
        }
      ]
    },
    {
      "cell_type": "markdown",
      "metadata": {
        "id": "9E9d20FOWx8l",
        "colab_type": "text"
      },
      "source": [
        "## Making training mini-batches\n",
        "\n",
        "\n",
        "To train on this data, we also want to create mini-batches for training. Remember that we want our batches to be multiple sequences of some desired number of sequence steps. Considering a simple example, our batches would look like this:\n",
        "\n",
        "<img src=\"assets/sequence_batching@1x.png\" width=500px>\n",
        "\n",
        "\n",
        "<br>\n",
        "\n",
        "In this example, we'll take the encoded characters (passed in as the `arr` parameter) and split them into multiple sequences, given by `batch_size`. Each of our sequences will be `seq_length` long.\n",
        "\n",
        "### Creating Batches\n",
        "\n",
        "**1. The first thing we need to do is discard some of the text so we only have completely full mini-batches. **\n",
        "\n",
        "Each batch contains $N \\times M$ characters, where $N$ is the batch size (the number of sequences in a batch) and $M$ is the seq_length or number of time steps in a sequence. Then, to get the total number of batches, $K$, that we can make from the array `arr`, you divide the length of `arr` by the number of characters per batch. Once you know the number of batches, you can get the total number of characters to keep from `arr`, $N * M * K$.\n",
        "\n",
        "**2. After that, we need to split `arr` into $N$ batches. ** \n",
        "\n",
        "You can do this using `arr.reshape(size)` where `size` is a tuple containing the dimensions sizes of the reshaped array. We know we want $N$ sequences in a batch, so let's make that the size of the first dimension. For the second dimension, you can use `-1` as a placeholder in the size, it'll fill up the array with the appropriate data for you. After this, you should have an array that is $N \\times (M * K)$.\n",
        "\n",
        "**3. Now that we have this array, we can iterate through it to get our mini-batches. **\n",
        "\n",
        "The idea is each batch is a $N \\times M$ window on the $N \\times (M * K)$ array. For each subsequent batch, the window moves over by `seq_length`. We also want to create both the input and target arrays. Remember that the targets are just the inputs shifted over by one character. The way I like to do this window is use `range` to take steps of size `n_steps` from $0$ to `arr.shape[1]`, the total number of tokens in each sequence. That way, the integers you get from `range` always point to the start of a batch, and each window is `seq_length` wide.\n",
        "\n",
        "> **TODO:** Write the code for creating batches in the function below. The exercises in this notebook _will not be easy_. I've provided a notebook with solutions alongside this notebook. If you get stuck, checkout the solutions. The most important thing is that you don't copy and paste the code into here, **type out the solution code yourself.**"
      ]
    },
    {
      "cell_type": "code",
      "metadata": {
        "id": "6HyxY_mfWx8m",
        "colab_type": "code",
        "colab": {}
      },
      "source": [
        "def get_batches(arr, batch_size, seq_length):\n",
        "    '''Create a generator that returns batches of size\n",
        "       batch_size x seq_length from arr.\n",
        "       \n",
        "       Arguments\n",
        "       ---------\n",
        "       arr: Array you want to make batches from\n",
        "       batch_size: Batch size, the number of sequences per batch\n",
        "       seq_length: Number of encoded chars in a sequence\n",
        "    '''\n",
        "    total_batches_s = batch_size * seq_length\n",
        "    ## TODO: Get the number of batches we can make\n",
        "    n_batches = len(arr)//total_batches_s\n",
        "    \n",
        "    ## TODO: Keep only enough characters to make full batches\n",
        "    arr = arr[:n_batches * total_batches_s]\n",
        "    \n",
        "    ## TODO: Reshape into batch_size rows\n",
        "    arr = arr.reshape((batch_size, -1))\n",
        "    \n",
        "    ## TODO: Iterate over the batches using a window of size seq_length\n",
        "    for n in range(0, arr.shape[1], seq_length):\n",
        "        # The features\n",
        "        x = arr[:, n:n+seq_length]\n",
        "        # The targets, shifted by one\n",
        "        y = np.zeros_like(x)\n",
        "        try:\n",
        "          y[:, :-1], y[:, -1] = x[:, 1:], arr[:, n+seq_length]\n",
        "        except IndexError:\n",
        "          y[:, :-1], y[:, -1] = x[:, 1:], arr[:, 0]\n",
        "        yield x, y"
      ],
      "execution_count": 8,
      "outputs": []
    },
    {
      "cell_type": "markdown",
      "metadata": {
        "id": "gnaaLs5QWx8p",
        "colab_type": "text"
      },
      "source": [
        "### Test Your Implementation\n",
        "\n",
        "Now I'll make some data sets and we can check out what's going on as we batch data. Here, as an example, I'm going to use a batch size of 8 and 50 sequence steps."
      ]
    },
    {
      "cell_type": "code",
      "metadata": {
        "id": "yDlJ0ZC8Wx8q",
        "colab_type": "code",
        "colab": {}
      },
      "source": [
        "batches = get_batches(encoded, 8, 50)\n",
        "x, y = next(batches)"
      ],
      "execution_count": 9,
      "outputs": []
    },
    {
      "cell_type": "code",
      "metadata": {
        "id": "7PJ8OU7XWx8s",
        "colab_type": "code",
        "colab": {
          "base_uri": "https://localhost:8080/",
          "height": 354
        },
        "outputId": "9f3dd731-7f57-4576-8e8a-a254f56ddeb9"
      },
      "source": [
        "# printing out the first 10 items in a sequence\n",
        "print('x\\n', x[:10, :10])\n",
        "print('\\ny\\n', y[:10, :10])"
      ],
      "execution_count": 10,
      "outputs": [
        {
          "output_type": "stream",
          "text": [
            "x\n",
            " [[66 41 81 23 76 31 46 16 17 67]\n",
            " [ 3  9 19 16 76 41 81 76 16 81]\n",
            " [31 19  2 16  9 46 16 81 16 53]\n",
            " [ 3 16 76 41 31 16 71 41 10 31]\n",
            " [16  3 81 56 16 41 31 46 16 76]\n",
            " [71 40  3  3 10  9 19 16 81 19]\n",
            " [16 39 19 19 81 16 41 81  2 16]\n",
            " [38 28 35  9 19  3 69  0 13 16]]\n",
            "\n",
            "y\n",
            " [[41 81 23 76 31 46 16 17 67 67]\n",
            " [ 9 19 16 76 41 81 76 16 81 76]\n",
            " [19  2 16  9 46 16 81 16 53  9]\n",
            " [16 76 41 31 16 71 41 10 31 53]\n",
            " [ 3 81 56 16 41 31 46 16 76 31]\n",
            " [40  3  3 10  9 19 16 81 19  2]\n",
            " [39 19 19 81 16 41 81  2 16  3]\n",
            " [28 35  9 19  3 69  0 13 16 49]]\n"
          ],
          "name": "stdout"
        }
      ]
    },
    {
      "cell_type": "markdown",
      "metadata": {
        "id": "A2pUVJajWx8v",
        "colab_type": "text"
      },
      "source": [
        "If you implemented `get_batches` correctly, the above output should look something like \n",
        "```\n",
        "x\n",
        " [[25  8 60 11 45 27 28 73  1  2]\n",
        " [17  7 20 73 45  8 60 45 73 60]\n",
        " [27 20 80 73  7 28 73 60 73 65]\n",
        " [17 73 45  8 27 73 66  8 46 27]\n",
        " [73 17 60 12 73  8 27 28 73 45]\n",
        " [66 64 17 17 46  7 20 73 60 20]\n",
        " [73 76 20 20 60 73  8 60 80 73]\n",
        " [47 35 43  7 20 17 24 50 37 73]]\n",
        "\n",
        "y\n",
        " [[ 8 60 11 45 27 28 73  1  2  2]\n",
        " [ 7 20 73 45  8 60 45 73 60 45]\n",
        " [20 80 73  7 28 73 60 73 65  7]\n",
        " [73 45  8 27 73 66  8 46 27 65]\n",
        " [17 60 12 73  8 27 28 73 45 27]\n",
        " [64 17 17 46  7 20 73 60 20 80]\n",
        " [76 20 20 60 73  8 60 80 73 17]\n",
        " [35 43  7 20 17 24 50 37 73 36]]\n",
        " ```\n",
        " although the exact numbers may be different. Check to make sure the data is shifted over one step for `y`."
      ]
    },
    {
      "cell_type": "markdown",
      "metadata": {
        "id": "AAyU7ovfWx8v",
        "colab_type": "text"
      },
      "source": [
        "---\n",
        "## Defining the network with PyTorch\n",
        "\n",
        "Below is where you'll define the network.\n",
        "\n",
        "<img src=\"assets/charRNN.png\" width=500px>\n",
        "\n",
        "Next, you'll use PyTorch to define the architecture of the network. We start by defining the layers and operations we want. Then, define a method for the forward pass. You've also been given a method for predicting characters."
      ]
    },
    {
      "cell_type": "markdown",
      "metadata": {
        "id": "fwNEN7s-Wx8w",
        "colab_type": "text"
      },
      "source": [
        "### Model Structure\n",
        "\n",
        "In `__init__` the suggested structure is as follows:\n",
        "* Create and store the necessary dictionaries (this has been done for you)\n",
        "* Define an LSTM layer that takes as params: an input size (the number of characters), a hidden layer size `n_hidden`, a number of layers `n_layers`, a dropout probability `drop_prob`, and a batch_first boolean (True, since we are batching)\n",
        "* Define a dropout layer with `drop_prob`\n",
        "* Define a fully-connected layer with params: input size `n_hidden` and output size (the number of characters)\n",
        "* Finally, initialize the weights (again, this has been given)\n",
        "\n",
        "Note that some parameters have been named and given in the `__init__` function, and we use them and store them by doing something like `self.drop_prob = drop_prob`."
      ]
    },
    {
      "cell_type": "markdown",
      "metadata": {
        "id": "tbjx244iWx8w",
        "colab_type": "text"
      },
      "source": [
        "---\n",
        "### LSTM Inputs/Outputs\n",
        "\n",
        "You can create a basic [LSTM layer](https://pytorch.org/docs/stable/nn.html#lstm) as follows\n",
        "\n",
        "```python\n",
        "self.lstm = nn.LSTM(input_size, n_hidden, n_layers, \n",
        "                            dropout=drop_prob, batch_first=True)\n",
        "```\n",
        "\n",
        "where `input_size` is the number of characters this cell expects to see as sequential input, and `n_hidden` is the number of units in the hidden layers in the cell. And we can add dropout by adding a dropout parameter with a specified probability; this will automatically add dropout to the inputs or outputs. Finally, in the `forward` function, we can stack up the LSTM cells into layers using `.view`. With this, you pass in a list of cells and it will send the output of one cell into the next cell.\n",
        "\n",
        "We also need to create an initial hidden state of all zeros. This is done like so\n",
        "\n",
        "```python\n",
        "self.init_hidden()\n",
        "```"
      ]
    },
    {
      "cell_type": "code",
      "metadata": {
        "id": "Y-gIjkQGWx8x",
        "colab_type": "code",
        "colab": {
          "base_uri": "https://localhost:8080/",
          "height": 34
        },
        "outputId": "4aa8e17c-0b8e-4be3-b648-a39849d9b3e1"
      },
      "source": [
        "# check if GPU is available\n",
        "train_on_gpu = torch.cuda.is_available()\n",
        "if(train_on_gpu):\n",
        "    print('Training on GPU!')\n",
        "else: \n",
        "    print('No GPU available, training on CPU; consider making n_epochs very small.')"
      ],
      "execution_count": 11,
      "outputs": [
        {
          "output_type": "stream",
          "text": [
            "Training on GPU!\n"
          ],
          "name": "stdout"
        }
      ]
    },
    {
      "cell_type": "code",
      "metadata": {
        "id": "m8--DiyMWx8z",
        "colab_type": "code",
        "colab": {}
      },
      "source": [
        "class CharRNN(nn.Module):\n",
        "    \n",
        "    def __init__(self, tokens, n_hidden=256, n_layers=2,\n",
        "                               drop_prob=0.5, lr=0.001):\n",
        "        super().__init__()\n",
        "        self.drop_prob = drop_prob\n",
        "        self.n_layers = n_layers\n",
        "        self.n_hidden = n_hidden\n",
        "        self.lr = lr\n",
        "        \n",
        "        # creating character dictionaries\n",
        "        self.chars = tokens\n",
        "        self.int2char = dict(enumerate(self.chars))\n",
        "        self.char2int = {ch: ii for ii, ch in self.int2char.items()}\n",
        "        \n",
        "        ## TODO: define the layers of the model\n",
        "        self.lstm = nn.LSTM(len(self.chars), n_hidden, n_layers, \n",
        "                            dropout=drop_prob, batch_first=True)\n",
        "\n",
        "        # Dropout layer\n",
        "        self.dropout = nn.Dropout(drop_prob)\n",
        "\n",
        "        # Define the final, fully-connected output layer\n",
        "        self.fc = nn.Linear(n_hidden, len(self.chars))\n",
        "    \n",
        "    def forward(self, x, hidden):\n",
        "        ''' Forward pass through the network. \n",
        "            These inputs are x, and the hidden/cell state `hidden`. '''\n",
        "                \n",
        "        ## TODO: Get the outputs and the new hidden state from the lstm\n",
        "        r_output, hidden = self.lstm(x, hidden)\n",
        "\n",
        "        # pass thorough a dropout layer\n",
        "        out = self.dropout(r_output)\n",
        "\n",
        "        # Stack up LSTM outputs using view\n",
        "        out = out.contiguous().view(-1, self.n_hidden)\n",
        "\n",
        "        # put x thorough the fully-connected layer\n",
        "        out = self.fc(out)\n",
        "\n",
        "        # return the final output and the hidden state\n",
        "        return out, hidden\n",
        "    \n",
        "    \n",
        "    def init_hidden(self, batch_size):\n",
        "        ''' Initializes hidden state '''\n",
        "        # Create two new tensors with sizes n_layers x batch_size x n_hidden,\n",
        "        # initialized to zero, for hidden state and cell state of LSTM\n",
        "        weight = next(self.parameters()).data\n",
        "        \n",
        "        if (train_on_gpu):\n",
        "            hidden = (weight.new(self.n_layers, batch_size, self.n_hidden).zero_().cuda(),\n",
        "                  weight.new(self.n_layers, batch_size, self.n_hidden).zero_().cuda())\n",
        "        else:\n",
        "            hidden = (weight.new(self.n_layers, batch_size, self.n_hidden).zero_(),\n",
        "                      weight.new(self.n_layers, batch_size, self.n_hidden).zero_())\n",
        "        \n",
        "        return hidden\n",
        "        "
      ],
      "execution_count": 18,
      "outputs": []
    },
    {
      "cell_type": "markdown",
      "metadata": {
        "id": "SjBQ45XnWx85",
        "colab_type": "text"
      },
      "source": [
        "## Time to train\n",
        "\n",
        "The train function gives us the ability to set the number of epochs, the learning rate, and other parameters.\n",
        "\n",
        "Below we're using an Adam optimizer and cross entropy loss since we are looking at character class scores as output. We calculate the loss and perform backpropagation, as usual!\n",
        "\n",
        "A couple of details about training: \n",
        ">* Within the batch loop, we detach the hidden state from its history; this time setting it equal to a new *tuple* variable because an LSTM has a hidden state that is a tuple of the hidden and cell states.\n",
        "* We use [`clip_grad_norm_`](https://pytorch.org/docs/stable/_modules/torch/nn/utils/clip_grad.html) to help prevent exploding gradients."
      ]
    },
    {
      "cell_type": "code",
      "metadata": {
        "id": "xZEwWC7ZWx86",
        "colab_type": "code",
        "colab": {}
      },
      "source": [
        "def train(net, data, epochs=10, batch_size=10, seq_length=50, lr=0.001, clip=5, val_frac=0.1, print_every=10):\n",
        "    ''' Training a network \n",
        "    \n",
        "        Arguments\n",
        "        ---------\n",
        "        \n",
        "        net: CharRNN network\n",
        "        data: text data to train the network\n",
        "        epochs: Number of epochs to train\n",
        "        batch_size: Number of mini-sequences per mini-batch, aka batch size\n",
        "        seq_length: Number of character steps per mini-batch\n",
        "        lr: learning rate\n",
        "        clip: gradient clipping\n",
        "        val_frac: Fraction of data to hold out for validation\n",
        "        print_every: Number of steps for printing training and validation loss\n",
        "    \n",
        "    '''\n",
        "    net.train()\n",
        "    \n",
        "    opt = torch.optim.Adam(net.parameters(), lr=lr)\n",
        "    criterion = nn.CrossEntropyLoss()\n",
        "    \n",
        "    # create training and validation data\n",
        "    val_idx = int(len(data)*(1-val_frac))\n",
        "    data, val_data = data[:val_idx], data[val_idx:]\n",
        "    \n",
        "    if(train_on_gpu):\n",
        "        net.cuda()\n",
        "    \n",
        "    counter = 0\n",
        "    n_chars = len(net.chars)\n",
        "    for e in range(epochs):\n",
        "        # initialize hidden state\n",
        "        h = net.init_hidden(batch_size)\n",
        "        \n",
        "        for x, y in get_batches(data, batch_size, seq_length):\n",
        "            counter += 1\n",
        "            \n",
        "            # One-hot encode our data and make them Torch tensors\n",
        "            x = one_hot_encode(x, n_chars)\n",
        "            inputs, targets = torch.from_numpy(x), torch.from_numpy(y)\n",
        "            \n",
        "            if(train_on_gpu):\n",
        "                inputs, targets = inputs.cuda(), targets.cuda()\n",
        "\n",
        "            # Creating new variables for the hidden state, otherwise\n",
        "            # we'd backprop through the entire training history\n",
        "            h = tuple([each.data for each in h])\n",
        "\n",
        "            # zero accumulated gradients\n",
        "            net.zero_grad()\n",
        "            \n",
        "            # get the output from the model\n",
        "            output, h = net(inputs, h)\n",
        "            \n",
        "            # calculate the loss and perform backprop\n",
        "            loss = criterion(output, targets.view(batch_size*seq_length).long())\n",
        "            loss.backward()\n",
        "            # `clip_grad_norm` helps prevent the exploding gradient problem in RNNs / LSTMs.\n",
        "            nn.utils.clip_grad_norm_(net.parameters(), clip)\n",
        "            opt.step()\n",
        "            \n",
        "            # loss stats\n",
        "            if counter % print_every == 0:\n",
        "                # Get validation loss\n",
        "                val_h = net.init_hidden(batch_size)\n",
        "                val_losses = []\n",
        "                net.eval()\n",
        "                for x, y in get_batches(val_data, batch_size, seq_length):\n",
        "                    # One-hot encode our data and make them Torch tensors\n",
        "                    x = one_hot_encode(x, n_chars)\n",
        "                    x, y = torch.from_numpy(x), torch.from_numpy(y)\n",
        "                    \n",
        "                    # Creating new variables for the hidden state, otherwise\n",
        "                    # we'd backprop through the entire training history\n",
        "                    val_h = tuple([each.data for each in val_h])\n",
        "                    \n",
        "                    inputs, targets = x, y\n",
        "                    if(train_on_gpu):\n",
        "                        inputs, targets = inputs.cuda(), targets.cuda()\n",
        "\n",
        "                    output, val_h = net(inputs, val_h)\n",
        "                    val_loss = criterion(output, targets.view(batch_size*seq_length).long())\n",
        "                \n",
        "                    val_losses.append(val_loss.item())\n",
        "                \n",
        "                net.train() # reset to train mode after iterationg through validation data\n",
        "                \n",
        "                print(\"Epoch: {}/{}...\".format(e+1, epochs),\n",
        "                      \"Step: {}...\".format(counter),\n",
        "                      \"Loss: {:.4f}...\".format(loss.item()),\n",
        "                      \"Val Loss: {:.4f}\".format(np.mean(val_losses)))"
      ],
      "execution_count": 19,
      "outputs": []
    },
    {
      "cell_type": "markdown",
      "metadata": {
        "id": "WreoKlIuWx89",
        "colab_type": "text"
      },
      "source": [
        "## Instantiating the model\n",
        "\n",
        "Now we can actually train the network. First we'll create the network itself, with some given hyperparameters. Then, define the mini-batches sizes, and start training!"
      ]
    },
    {
      "cell_type": "code",
      "metadata": {
        "id": "xXIT1GPIWx89",
        "colab_type": "code",
        "colab": {
          "base_uri": "https://localhost:8080/",
          "height": 105
        },
        "outputId": "c8bb3679-a82f-49ea-88d6-e7a8b0eb145a"
      },
      "source": [
        "## TODO: set your model hyperparameters\n",
        "# define and print the net\n",
        "n_hidden=512\n",
        "n_layers=2\n",
        "\n",
        "net = CharRNN(chars, n_hidden, n_layers)\n",
        "print(net)"
      ],
      "execution_count": 20,
      "outputs": [
        {
          "output_type": "stream",
          "text": [
            "CharRNN(\n",
            "  (lstm): LSTM(83, 512, num_layers=2, batch_first=True, dropout=0.5)\n",
            "  (dropout): Dropout(p=0.5, inplace=False)\n",
            "  (fc): Linear(in_features=512, out_features=83, bias=True)\n",
            ")\n"
          ],
          "name": "stdout"
        }
      ]
    },
    {
      "cell_type": "markdown",
      "metadata": {
        "id": "KRVw8R8TWx9A",
        "colab_type": "text"
      },
      "source": [
        "### Set your training hyperparameters!"
      ]
    },
    {
      "cell_type": "code",
      "metadata": {
        "scrolled": true,
        "id": "gyK4sGONWx9A",
        "colab_type": "code",
        "colab": {
          "base_uri": "https://localhost:8080/",
          "height": 1000
        },
        "outputId": "3a5e8214-ae61-492f-b1d2-6bd25246e705"
      },
      "source": [
        "batch_size = 128\n",
        "seq_length = 100\n",
        "n_epochs =  22 # start small if you are just testing initial behavior\n",
        "\n",
        "# train the model\n",
        "train(net, encoded, epochs=n_epochs, batch_size=batch_size, seq_length=seq_length, lr=0.001, print_every=10)"
      ],
      "execution_count": 21,
      "outputs": [
        {
          "output_type": "stream",
          "text": [
            "Epoch: 1/22... Step: 10... Loss: 3.2666... Val Loss: 3.1828\n",
            "Epoch: 1/22... Step: 20... Loss: 3.1520... Val Loss: 3.1318\n",
            "Epoch: 1/22... Step: 30... Loss: 3.1422... Val Loss: 3.1218\n",
            "Epoch: 1/22... Step: 40... Loss: 3.1133... Val Loss: 3.1197\n",
            "Epoch: 1/22... Step: 50... Loss: 3.1422... Val Loss: 3.1181\n",
            "Epoch: 1/22... Step: 60... Loss: 3.1192... Val Loss: 3.1154\n",
            "Epoch: 1/22... Step: 70... Loss: 3.1042... Val Loss: 3.1131\n",
            "Epoch: 1/22... Step: 80... Loss: 3.1200... Val Loss: 3.1072\n",
            "Epoch: 1/22... Step: 90... Loss: 3.1094... Val Loss: 3.0941\n",
            "Epoch: 1/22... Step: 100... Loss: 3.0770... Val Loss: 3.0636\n",
            "Epoch: 1/22... Step: 110... Loss: 3.0181... Val Loss: 3.0022\n",
            "Epoch: 1/22... Step: 120... Loss: 2.8952... Val Loss: 2.8830\n",
            "Epoch: 1/22... Step: 130... Loss: 2.8367... Val Loss: 2.7724\n",
            "Epoch: 2/22... Step: 140... Loss: 2.7338... Val Loss: 2.6714\n",
            "Epoch: 2/22... Step: 150... Loss: 2.6432... Val Loss: 2.5993\n",
            "Epoch: 2/22... Step: 160... Loss: 2.5818... Val Loss: 2.5388\n",
            "Epoch: 2/22... Step: 170... Loss: 2.5081... Val Loss: 2.4911\n",
            "Epoch: 2/22... Step: 180... Loss: 2.4789... Val Loss: 2.4557\n",
            "Epoch: 2/22... Step: 190... Loss: 2.4269... Val Loss: 2.4184\n",
            "Epoch: 2/22... Step: 200... Loss: 2.4510... Val Loss: 2.4036\n",
            "Epoch: 2/22... Step: 210... Loss: 2.4000... Val Loss: 2.3707\n",
            "Epoch: 2/22... Step: 220... Loss: 2.3590... Val Loss: 2.3395\n",
            "Epoch: 2/22... Step: 230... Loss: 2.3491... Val Loss: 2.3113\n",
            "Epoch: 2/22... Step: 240... Loss: 2.3331... Val Loss: 2.2874\n",
            "Epoch: 2/22... Step: 250... Loss: 2.2642... Val Loss: 2.2611\n",
            "Epoch: 2/22... Step: 260... Loss: 2.2426... Val Loss: 2.2373\n",
            "Epoch: 2/22... Step: 270... Loss: 2.2527... Val Loss: 2.2166\n",
            "Epoch: 3/22... Step: 280... Loss: 2.2446... Val Loss: 2.1951\n",
            "Epoch: 3/22... Step: 290... Loss: 2.2063... Val Loss: 2.1742\n",
            "Epoch: 3/22... Step: 300... Loss: 2.1799... Val Loss: 2.1497\n",
            "Epoch: 3/22... Step: 310... Loss: 2.1683... Val Loss: 2.1354\n",
            "Epoch: 3/22... Step: 320... Loss: 2.1360... Val Loss: 2.1112\n",
            "Epoch: 3/22... Step: 330... Loss: 2.1050... Val Loss: 2.1014\n",
            "Epoch: 3/22... Step: 340... Loss: 2.1246... Val Loss: 2.0871\n",
            "Epoch: 3/22... Step: 350... Loss: 2.1150... Val Loss: 2.0630\n",
            "Epoch: 3/22... Step: 360... Loss: 2.0427... Val Loss: 2.0430\n",
            "Epoch: 3/22... Step: 370... Loss: 2.0703... Val Loss: 2.0290\n",
            "Epoch: 3/22... Step: 380... Loss: 2.0542... Val Loss: 2.0173\n",
            "Epoch: 3/22... Step: 390... Loss: 2.0240... Val Loss: 2.0003\n",
            "Epoch: 3/22... Step: 400... Loss: 1.9933... Val Loss: 1.9812\n",
            "Epoch: 3/22... Step: 410... Loss: 2.0095... Val Loss: 1.9673\n",
            "Epoch: 4/22... Step: 420... Loss: 1.9917... Val Loss: 1.9580\n",
            "Epoch: 4/22... Step: 430... Loss: 1.9859... Val Loss: 1.9401\n",
            "Epoch: 4/22... Step: 440... Loss: 1.9540... Val Loss: 1.9263\n",
            "Epoch: 4/22... Step: 450... Loss: 1.9024... Val Loss: 1.9140\n",
            "Epoch: 4/22... Step: 460... Loss: 1.8988... Val Loss: 1.9019\n",
            "Epoch: 4/22... Step: 470... Loss: 1.9209... Val Loss: 1.8936\n",
            "Epoch: 4/22... Step: 480... Loss: 1.9091... Val Loss: 1.8805\n",
            "Epoch: 4/22... Step: 490... Loss: 1.9131... Val Loss: 1.8685\n",
            "Epoch: 4/22... Step: 500... Loss: 1.9006... Val Loss: 1.8563\n",
            "Epoch: 4/22... Step: 510... Loss: 1.8742... Val Loss: 1.8459\n",
            "Epoch: 4/22... Step: 520... Loss: 1.8913... Val Loss: 1.8336\n",
            "Epoch: 4/22... Step: 530... Loss: 1.8446... Val Loss: 1.8236\n",
            "Epoch: 4/22... Step: 540... Loss: 1.8155... Val Loss: 1.8122\n",
            "Epoch: 4/22... Step: 550... Loss: 1.8571... Val Loss: 1.8021\n",
            "Epoch: 5/22... Step: 560... Loss: 1.8247... Val Loss: 1.7901\n",
            "Epoch: 5/22... Step: 570... Loss: 1.8083... Val Loss: 1.7816\n",
            "Epoch: 5/22... Step: 580... Loss: 1.7790... Val Loss: 1.7731\n",
            "Epoch: 5/22... Step: 590... Loss: 1.7906... Val Loss: 1.7656\n",
            "Epoch: 5/22... Step: 600... Loss: 1.7848... Val Loss: 1.7592\n",
            "Epoch: 5/22... Step: 610... Loss: 1.7600... Val Loss: 1.7526\n",
            "Epoch: 5/22... Step: 620... Loss: 1.7727... Val Loss: 1.7448\n",
            "Epoch: 5/22... Step: 630... Loss: 1.7750... Val Loss: 1.7336\n",
            "Epoch: 5/22... Step: 640... Loss: 1.7570... Val Loss: 1.7230\n",
            "Epoch: 5/22... Step: 650... Loss: 1.7305... Val Loss: 1.7156\n",
            "Epoch: 5/22... Step: 660... Loss: 1.7063... Val Loss: 1.7098\n",
            "Epoch: 5/22... Step: 670... Loss: 1.7337... Val Loss: 1.7012\n",
            "Epoch: 5/22... Step: 680... Loss: 1.7268... Val Loss: 1.6950\n",
            "Epoch: 5/22... Step: 690... Loss: 1.7024... Val Loss: 1.6879\n",
            "Epoch: 6/22... Step: 700... Loss: 1.7010... Val Loss: 1.6774\n",
            "Epoch: 6/22... Step: 710... Loss: 1.6920... Val Loss: 1.6751\n",
            "Epoch: 6/22... Step: 720... Loss: 1.6770... Val Loss: 1.6657\n",
            "Epoch: 6/22... Step: 730... Loss: 1.6927... Val Loss: 1.6630\n",
            "Epoch: 6/22... Step: 740... Loss: 1.6602... Val Loss: 1.6551\n",
            "Epoch: 6/22... Step: 750... Loss: 1.6408... Val Loss: 1.6469\n",
            "Epoch: 6/22... Step: 760... Loss: 1.6699... Val Loss: 1.6403\n",
            "Epoch: 6/22... Step: 770... Loss: 1.6523... Val Loss: 1.6381\n",
            "Epoch: 6/22... Step: 780... Loss: 1.6334... Val Loss: 1.6289\n",
            "Epoch: 6/22... Step: 790... Loss: 1.6319... Val Loss: 1.6228\n",
            "Epoch: 6/22... Step: 800... Loss: 1.6506... Val Loss: 1.6220\n",
            "Epoch: 6/22... Step: 810... Loss: 1.6324... Val Loss: 1.6133\n",
            "Epoch: 6/22... Step: 820... Loss: 1.5897... Val Loss: 1.6127\n",
            "Epoch: 6/22... Step: 830... Loss: 1.6309... Val Loss: 1.6035\n",
            "Epoch: 7/22... Step: 840... Loss: 1.5924... Val Loss: 1.5989\n",
            "Epoch: 7/22... Step: 850... Loss: 1.6042... Val Loss: 1.5934\n",
            "Epoch: 7/22... Step: 860... Loss: 1.5956... Val Loss: 1.5884\n",
            "Epoch: 7/22... Step: 870... Loss: 1.5947... Val Loss: 1.5844\n",
            "Epoch: 7/22... Step: 880... Loss: 1.6027... Val Loss: 1.5815\n",
            "Epoch: 7/22... Step: 890... Loss: 1.5905... Val Loss: 1.5763\n",
            "Epoch: 7/22... Step: 900... Loss: 1.5722... Val Loss: 1.5720\n",
            "Epoch: 7/22... Step: 910... Loss: 1.5548... Val Loss: 1.5665\n",
            "Epoch: 7/22... Step: 920... Loss: 1.5653... Val Loss: 1.5589\n",
            "Epoch: 7/22... Step: 930... Loss: 1.5508... Val Loss: 1.5541\n",
            "Epoch: 7/22... Step: 940... Loss: 1.5633... Val Loss: 1.5529\n",
            "Epoch: 7/22... Step: 950... Loss: 1.5733... Val Loss: 1.5453\n",
            "Epoch: 7/22... Step: 960... Loss: 1.5657... Val Loss: 1.5465\n",
            "Epoch: 7/22... Step: 970... Loss: 1.5636... Val Loss: 1.5411\n",
            "Epoch: 8/22... Step: 980... Loss: 1.5480... Val Loss: 1.5413\n",
            "Epoch: 8/22... Step: 990... Loss: 1.5339... Val Loss: 1.5340\n",
            "Epoch: 8/22... Step: 1000... Loss: 1.5343... Val Loss: 1.5269\n",
            "Epoch: 8/22... Step: 1010... Loss: 1.5616... Val Loss: 1.5276\n",
            "Epoch: 8/22... Step: 1020... Loss: 1.5471... Val Loss: 1.5209\n",
            "Epoch: 8/22... Step: 1030... Loss: 1.5102... Val Loss: 1.5192\n",
            "Epoch: 8/22... Step: 1040... Loss: 1.5325... Val Loss: 1.5178\n",
            "Epoch: 8/22... Step: 1050... Loss: 1.5078... Val Loss: 1.5111\n",
            "Epoch: 8/22... Step: 1060... Loss: 1.5199... Val Loss: 1.5081\n",
            "Epoch: 8/22... Step: 1070... Loss: 1.5213... Val Loss: 1.5060\n",
            "Epoch: 8/22... Step: 1080... Loss: 1.5028... Val Loss: 1.5010\n",
            "Epoch: 8/22... Step: 1090... Loss: 1.4999... Val Loss: 1.4950\n",
            "Epoch: 8/22... Step: 1100... Loss: 1.4897... Val Loss: 1.4916\n",
            "Epoch: 8/22... Step: 1110... Loss: 1.4950... Val Loss: 1.4880\n",
            "Epoch: 9/22... Step: 1120... Loss: 1.5110... Val Loss: 1.4879\n",
            "Epoch: 9/22... Step: 1130... Loss: 1.5006... Val Loss: 1.4840\n",
            "Epoch: 9/22... Step: 1140... Loss: 1.4992... Val Loss: 1.4783\n",
            "Epoch: 9/22... Step: 1150... Loss: 1.5109... Val Loss: 1.4808\n",
            "Epoch: 9/22... Step: 1160... Loss: 1.4659... Val Loss: 1.4757\n",
            "Epoch: 9/22... Step: 1170... Loss: 1.4745... Val Loss: 1.4756\n",
            "Epoch: 9/22... Step: 1180... Loss: 1.4698... Val Loss: 1.4750\n",
            "Epoch: 9/22... Step: 1190... Loss: 1.4910... Val Loss: 1.4705\n",
            "Epoch: 9/22... Step: 1200... Loss: 1.4492... Val Loss: 1.4623\n",
            "Epoch: 9/22... Step: 1210... Loss: 1.4566... Val Loss: 1.4633\n",
            "Epoch: 9/22... Step: 1220... Loss: 1.4536... Val Loss: 1.4623\n",
            "Epoch: 9/22... Step: 1230... Loss: 1.4423... Val Loss: 1.4560\n",
            "Epoch: 9/22... Step: 1240... Loss: 1.4449... Val Loss: 1.4529\n",
            "Epoch: 9/22... Step: 1250... Loss: 1.4529... Val Loss: 1.4503\n",
            "Epoch: 10/22... Step: 1260... Loss: 1.4468... Val Loss: 1.4477\n",
            "Epoch: 10/22... Step: 1270... Loss: 1.4458... Val Loss: 1.4443\n",
            "Epoch: 10/22... Step: 1280... Loss: 1.4618... Val Loss: 1.4411\n",
            "Epoch: 10/22... Step: 1290... Loss: 1.4488... Val Loss: 1.4402\n",
            "Epoch: 10/22... Step: 1300... Loss: 1.4358... Val Loss: 1.4404\n",
            "Epoch: 10/22... Step: 1310... Loss: 1.4455... Val Loss: 1.4384\n",
            "Epoch: 10/22... Step: 1320... Loss: 1.4119... Val Loss: 1.4362\n",
            "Epoch: 10/22... Step: 1330... Loss: 1.4198... Val Loss: 1.4340\n",
            "Epoch: 10/22... Step: 1340... Loss: 1.4114... Val Loss: 1.4285\n",
            "Epoch: 10/22... Step: 1350... Loss: 1.4032... Val Loss: 1.4269\n",
            "Epoch: 10/22... Step: 1360... Loss: 1.4015... Val Loss: 1.4278\n",
            "Epoch: 10/22... Step: 1370... Loss: 1.4043... Val Loss: 1.4246\n",
            "Epoch: 10/22... Step: 1380... Loss: 1.4346... Val Loss: 1.4178\n",
            "Epoch: 10/22... Step: 1390... Loss: 1.4377... Val Loss: 1.4180\n",
            "Epoch: 11/22... Step: 1400... Loss: 1.4438... Val Loss: 1.4151\n",
            "Epoch: 11/22... Step: 1410... Loss: 1.4551... Val Loss: 1.4188\n",
            "Epoch: 11/22... Step: 1420... Loss: 1.4485... Val Loss: 1.4117\n",
            "Epoch: 11/22... Step: 1430... Loss: 1.4115... Val Loss: 1.4134\n",
            "Epoch: 11/22... Step: 1440... Loss: 1.4369... Val Loss: 1.4082\n",
            "Epoch: 11/22... Step: 1450... Loss: 1.3638... Val Loss: 1.4125\n",
            "Epoch: 11/22... Step: 1460... Loss: 1.3824... Val Loss: 1.4038\n",
            "Epoch: 11/22... Step: 1470... Loss: 1.3757... Val Loss: 1.4047\n",
            "Epoch: 11/22... Step: 1480... Loss: 1.3999... Val Loss: 1.4010\n",
            "Epoch: 11/22... Step: 1490... Loss: 1.3843... Val Loss: 1.3989\n",
            "Epoch: 11/22... Step: 1500... Loss: 1.3688... Val Loss: 1.4031\n",
            "Epoch: 11/22... Step: 1510... Loss: 1.3530... Val Loss: 1.3968\n",
            "Epoch: 11/22... Step: 1520... Loss: 1.3927... Val Loss: 1.3928\n",
            "Epoch: 12/22... Step: 1530... Loss: 1.4386... Val Loss: 1.3908\n",
            "Epoch: 12/22... Step: 1540... Loss: 1.3884... Val Loss: 1.3888\n",
            "Epoch: 12/22... Step: 1550... Loss: 1.3979... Val Loss: 1.3856\n",
            "Epoch: 12/22... Step: 1560... Loss: 1.4097... Val Loss: 1.3863\n",
            "Epoch: 12/22... Step: 1570... Loss: 1.3575... Val Loss: 1.3875\n",
            "Epoch: 12/22... Step: 1580... Loss: 1.3315... Val Loss: 1.3836\n",
            "Epoch: 12/22... Step: 1590... Loss: 1.3340... Val Loss: 1.3825\n",
            "Epoch: 12/22... Step: 1600... Loss: 1.3668... Val Loss: 1.3800\n",
            "Epoch: 12/22... Step: 1610... Loss: 1.3551... Val Loss: 1.3787\n",
            "Epoch: 12/22... Step: 1620... Loss: 1.3444... Val Loss: 1.3798\n",
            "Epoch: 12/22... Step: 1630... Loss: 1.3738... Val Loss: 1.3752\n",
            "Epoch: 12/22... Step: 1640... Loss: 1.3463... Val Loss: 1.3749\n",
            "Epoch: 12/22... Step: 1650... Loss: 1.3213... Val Loss: 1.3746\n",
            "Epoch: 12/22... Step: 1660... Loss: 1.3827... Val Loss: 1.3677\n",
            "Epoch: 13/22... Step: 1670... Loss: 1.3482... Val Loss: 1.3661\n",
            "Epoch: 13/22... Step: 1680... Loss: 1.3514... Val Loss: 1.3623\n",
            "Epoch: 13/22... Step: 1690... Loss: 1.3323... Val Loss: 1.3598\n",
            "Epoch: 13/22... Step: 1700... Loss: 1.3444... Val Loss: 1.3566\n",
            "Epoch: 13/22... Step: 1710... Loss: 1.3145... Val Loss: 1.3609\n",
            "Epoch: 13/22... Step: 1720... Loss: 1.3221... Val Loss: 1.3585\n",
            "Epoch: 13/22... Step: 1730... Loss: 1.3669... Val Loss: 1.3547\n",
            "Epoch: 13/22... Step: 1740... Loss: 1.3264... Val Loss: 1.3527\n",
            "Epoch: 13/22... Step: 1750... Loss: 1.3018... Val Loss: 1.3540\n",
            "Epoch: 13/22... Step: 1760... Loss: 1.3201... Val Loss: 1.3536\n",
            "Epoch: 13/22... Step: 1770... Loss: 1.3445... Val Loss: 1.3504\n",
            "Epoch: 13/22... Step: 1780... Loss: 1.3116... Val Loss: 1.3459\n",
            "Epoch: 13/22... Step: 1790... Loss: 1.2991... Val Loss: 1.3468\n",
            "Epoch: 13/22... Step: 1800... Loss: 1.3304... Val Loss: 1.3433\n",
            "Epoch: 14/22... Step: 1810... Loss: 1.3272... Val Loss: 1.3489\n",
            "Epoch: 14/22... Step: 1820... Loss: 1.3154... Val Loss: 1.3422\n",
            "Epoch: 14/22... Step: 1830... Loss: 1.3373... Val Loss: 1.3330\n",
            "Epoch: 14/22... Step: 1840... Loss: 1.2701... Val Loss: 1.3335\n",
            "Epoch: 14/22... Step: 1850... Loss: 1.2620... Val Loss: 1.3412\n",
            "Epoch: 14/22... Step: 1860... Loss: 1.3154... Val Loss: 1.3380\n",
            "Epoch: 14/22... Step: 1870... Loss: 1.3232... Val Loss: 1.3427\n",
            "Epoch: 14/22... Step: 1880... Loss: 1.3142... Val Loss: 1.3327\n",
            "Epoch: 14/22... Step: 1890... Loss: 1.3331... Val Loss: 1.3345\n",
            "Epoch: 14/22... Step: 1900... Loss: 1.3091... Val Loss: 1.3343\n",
            "Epoch: 14/22... Step: 1910... Loss: 1.3083... Val Loss: 1.3308\n",
            "Epoch: 14/22... Step: 1920... Loss: 1.3002... Val Loss: 1.3345\n",
            "Epoch: 14/22... Step: 1930... Loss: 1.2730... Val Loss: 1.3293\n",
            "Epoch: 14/22... Step: 1940... Loss: 1.3262... Val Loss: 1.3247\n",
            "Epoch: 15/22... Step: 1950... Loss: 1.2925... Val Loss: 1.3328\n",
            "Epoch: 15/22... Step: 1960... Loss: 1.2953... Val Loss: 1.3340\n",
            "Epoch: 15/22... Step: 1970... Loss: 1.2947... Val Loss: 1.3207\n",
            "Epoch: 15/22... Step: 1980... Loss: 1.2855... Val Loss: 1.3224\n",
            "Epoch: 15/22... Step: 1990... Loss: 1.2797... Val Loss: 1.3216\n",
            "Epoch: 15/22... Step: 2000... Loss: 1.2668... Val Loss: 1.3285\n",
            "Epoch: 15/22... Step: 2010... Loss: 1.2967... Val Loss: 1.3208\n",
            "Epoch: 15/22... Step: 2020... Loss: 1.3013... Val Loss: 1.3185\n",
            "Epoch: 15/22... Step: 2030... Loss: 1.2733... Val Loss: 1.3238\n",
            "Epoch: 15/22... Step: 2040... Loss: 1.2834... Val Loss: 1.3188\n",
            "Epoch: 15/22... Step: 2050... Loss: 1.2598... Val Loss: 1.3173\n",
            "Epoch: 15/22... Step: 2060... Loss: 1.2834... Val Loss: 1.3165\n",
            "Epoch: 15/22... Step: 2070... Loss: 1.2889... Val Loss: 1.3141\n",
            "Epoch: 15/22... Step: 2080... Loss: 1.2828... Val Loss: 1.3123\n",
            "Epoch: 16/22... Step: 2090... Loss: 1.2954... Val Loss: 1.3215\n",
            "Epoch: 16/22... Step: 2100... Loss: 1.2687... Val Loss: 1.3160\n",
            "Epoch: 16/22... Step: 2110... Loss: 1.2538... Val Loss: 1.3076\n",
            "Epoch: 16/22... Step: 2120... Loss: 1.2750... Val Loss: 1.3134\n",
            "Epoch: 16/22... Step: 2130... Loss: 1.2538... Val Loss: 1.3121\n",
            "Epoch: 16/22... Step: 2140... Loss: 1.2601... Val Loss: 1.3080\n",
            "Epoch: 16/22... Step: 2150... Loss: 1.2996... Val Loss: 1.3066\n",
            "Epoch: 16/22... Step: 2160... Loss: 1.2669... Val Loss: 1.3080\n",
            "Epoch: 16/22... Step: 2170... Loss: 1.2649... Val Loss: 1.3072\n",
            "Epoch: 16/22... Step: 2180... Loss: 1.2545... Val Loss: 1.3085\n",
            "Epoch: 16/22... Step: 2190... Loss: 1.2772... Val Loss: 1.3077\n",
            "Epoch: 16/22... Step: 2200... Loss: 1.2528... Val Loss: 1.3025\n",
            "Epoch: 16/22... Step: 2210... Loss: 1.2205... Val Loss: 1.3016\n",
            "Epoch: 16/22... Step: 2220... Loss: 1.2668... Val Loss: 1.3059\n",
            "Epoch: 17/22... Step: 2230... Loss: 1.2498... Val Loss: 1.3128\n",
            "Epoch: 17/22... Step: 2240... Loss: 1.2532... Val Loss: 1.3028\n",
            "Epoch: 17/22... Step: 2250... Loss: 1.2403... Val Loss: 1.3019\n",
            "Epoch: 17/22... Step: 2260... Loss: 1.2514... Val Loss: 1.3048\n",
            "Epoch: 17/22... Step: 2270... Loss: 1.2698... Val Loss: 1.3140\n",
            "Epoch: 17/22... Step: 2280... Loss: 1.2648... Val Loss: 1.3020\n",
            "Epoch: 17/22... Step: 2290... Loss: 1.2616... Val Loss: 1.3001\n",
            "Epoch: 17/22... Step: 2300... Loss: 1.2195... Val Loss: 1.2984\n",
            "Epoch: 17/22... Step: 2310... Loss: 1.2453... Val Loss: 1.3023\n",
            "Epoch: 17/22... Step: 2320... Loss: 1.2439... Val Loss: 1.2961\n",
            "Epoch: 17/22... Step: 2330... Loss: 1.2428... Val Loss: 1.2950\n",
            "Epoch: 17/22... Step: 2340... Loss: 1.2516... Val Loss: 1.2967\n",
            "Epoch: 17/22... Step: 2350... Loss: 1.2532... Val Loss: 1.2987\n",
            "Epoch: 17/22... Step: 2360... Loss: 1.2592... Val Loss: 1.2985\n",
            "Epoch: 18/22... Step: 2370... Loss: 1.2372... Val Loss: 1.2993\n",
            "Epoch: 18/22... Step: 2380... Loss: 1.2342... Val Loss: 1.2943\n",
            "Epoch: 18/22... Step: 2390... Loss: 1.2357... Val Loss: 1.2916\n",
            "Epoch: 18/22... Step: 2400... Loss: 1.2586... Val Loss: 1.2914\n",
            "Epoch: 18/22... Step: 2410... Loss: 1.2620... Val Loss: 1.2914\n",
            "Epoch: 18/22... Step: 2420... Loss: 1.2332... Val Loss: 1.2876\n",
            "Epoch: 18/22... Step: 2430... Loss: 1.2502... Val Loss: 1.2871\n",
            "Epoch: 18/22... Step: 2440... Loss: 1.2283... Val Loss: 1.2874\n",
            "Epoch: 18/22... Step: 2450... Loss: 1.2228... Val Loss: 1.2974\n",
            "Epoch: 18/22... Step: 2460... Loss: 1.2414... Val Loss: 1.2866\n",
            "Epoch: 18/22... Step: 2470... Loss: 1.2341... Val Loss: 1.2926\n",
            "Epoch: 18/22... Step: 2480... Loss: 1.2193... Val Loss: 1.2879\n",
            "Epoch: 18/22... Step: 2490... Loss: 1.2218... Val Loss: 1.2844\n",
            "Epoch: 18/22... Step: 2500... Loss: 1.2274... Val Loss: 1.2884\n",
            "Epoch: 19/22... Step: 2510... Loss: 1.2347... Val Loss: 1.2862\n",
            "Epoch: 19/22... Step: 2520... Loss: 1.2430... Val Loss: 1.2874\n",
            "Epoch: 19/22... Step: 2530... Loss: 1.2456... Val Loss: 1.2826\n",
            "Epoch: 19/22... Step: 2540... Loss: 1.2654... Val Loss: 1.2850\n",
            "Epoch: 19/22... Step: 2550... Loss: 1.2149... Val Loss: 1.2830\n",
            "Epoch: 19/22... Step: 2560... Loss: 1.2237... Val Loss: 1.2799\n",
            "Epoch: 19/22... Step: 2570... Loss: 1.2273... Val Loss: 1.2816\n",
            "Epoch: 19/22... Step: 2580... Loss: 1.2490... Val Loss: 1.2798\n",
            "Epoch: 19/22... Step: 2590... Loss: 1.2079... Val Loss: 1.2831\n",
            "Epoch: 19/22... Step: 2600... Loss: 1.2042... Val Loss: 1.2820\n",
            "Epoch: 19/22... Step: 2610... Loss: 1.2166... Val Loss: 1.2835\n",
            "Epoch: 19/22... Step: 2620... Loss: 1.2004... Val Loss: 1.2879\n",
            "Epoch: 19/22... Step: 2630... Loss: 1.2073... Val Loss: 1.2803\n",
            "Epoch: 19/22... Step: 2640... Loss: 1.2238... Val Loss: 1.2839\n",
            "Epoch: 20/22... Step: 2650... Loss: 1.2198... Val Loss: 1.2796\n",
            "Epoch: 20/22... Step: 2660... Loss: 1.2279... Val Loss: 1.2740\n",
            "Epoch: 20/22... Step: 2670... Loss: 1.2241... Val Loss: 1.2755\n",
            "Epoch: 20/22... Step: 2680... Loss: 1.2194... Val Loss: 1.2741\n",
            "Epoch: 20/22... Step: 2690... Loss: 1.2194... Val Loss: 1.2744\n",
            "Epoch: 20/22... Step: 2700... Loss: 1.2353... Val Loss: 1.2735\n",
            "Epoch: 20/22... Step: 2710... Loss: 1.2034... Val Loss: 1.2783\n",
            "Epoch: 20/22... Step: 2720... Loss: 1.1993... Val Loss: 1.2729\n",
            "Epoch: 20/22... Step: 2730... Loss: 1.1936... Val Loss: 1.2712\n",
            "Epoch: 20/22... Step: 2740... Loss: 1.1915... Val Loss: 1.2709\n",
            "Epoch: 20/22... Step: 2750... Loss: 1.1924... Val Loss: 1.2737\n",
            "Epoch: 20/22... Step: 2760... Loss: 1.1891... Val Loss: 1.2794\n",
            "Epoch: 20/22... Step: 2770... Loss: 1.2196... Val Loss: 1.2714\n",
            "Epoch: 20/22... Step: 2780... Loss: 1.2521... Val Loss: 1.2682\n",
            "Epoch: 21/22... Step: 2790... Loss: 1.2380... Val Loss: 1.2703\n",
            "Epoch: 21/22... Step: 2800... Loss: 1.2506... Val Loss: 1.2736\n",
            "Epoch: 21/22... Step: 2810... Loss: 1.2413... Val Loss: 1.2691\n",
            "Epoch: 21/22... Step: 2820... Loss: 1.2247... Val Loss: 1.2692\n",
            "Epoch: 21/22... Step: 2830... Loss: 1.2205... Val Loss: 1.2696\n",
            "Epoch: 21/22... Step: 2840... Loss: 1.1735... Val Loss: 1.2787\n",
            "Epoch: 21/22... Step: 2850... Loss: 1.1971... Val Loss: 1.2706\n",
            "Epoch: 21/22... Step: 2860... Loss: 1.1852... Val Loss: 1.2675\n",
            "Epoch: 21/22... Step: 2870... Loss: 1.2049... Val Loss: 1.2652\n",
            "Epoch: 21/22... Step: 2880... Loss: 1.1867... Val Loss: 1.2646\n",
            "Epoch: 21/22... Step: 2890... Loss: 1.1771... Val Loss: 1.2651\n",
            "Epoch: 21/22... Step: 2900... Loss: 1.1712... Val Loss: 1.2683\n",
            "Epoch: 21/22... Step: 2910... Loss: 1.2004... Val Loss: 1.2682\n",
            "Epoch: 22/22... Step: 2920... Loss: 1.3105... Val Loss: 1.2672\n",
            "Epoch: 22/22... Step: 2930... Loss: 1.2112... Val Loss: 1.2712\n",
            "Epoch: 22/22... Step: 2940... Loss: 1.2092... Val Loss: 1.2658\n",
            "Epoch: 22/22... Step: 2950... Loss: 1.2265... Val Loss: 1.2606\n",
            "Epoch: 22/22... Step: 2960... Loss: 1.1804... Val Loss: 1.2621\n",
            "Epoch: 22/22... Step: 2970... Loss: 1.1657... Val Loss: 1.2641\n",
            "Epoch: 22/22... Step: 2980... Loss: 1.1642... Val Loss: 1.2711\n",
            "Epoch: 22/22... Step: 2990... Loss: 1.1795... Val Loss: 1.2665\n",
            "Epoch: 22/22... Step: 3000... Loss: 1.1764... Val Loss: 1.2652\n",
            "Epoch: 22/22... Step: 3010... Loss: 1.1828... Val Loss: 1.2595\n",
            "Epoch: 22/22... Step: 3020... Loss: 1.1963... Val Loss: 1.2584\n",
            "Epoch: 22/22... Step: 3030... Loss: 1.1785... Val Loss: 1.2624\n",
            "Epoch: 22/22... Step: 3040... Loss: 1.1631... Val Loss: 1.2653\n",
            "Epoch: 22/22... Step: 3050... Loss: 1.2116... Val Loss: 1.2613\n"
          ],
          "name": "stdout"
        }
      ]
    },
    {
      "cell_type": "markdown",
      "metadata": {
        "id": "0xVDgkq3Wx9D",
        "colab_type": "text"
      },
      "source": [
        "## Getting the best model\n",
        "\n",
        "To set your hyperparameters to get the best performance, you'll want to watch the training and validation losses. If your training loss is much lower than the validation loss, you're overfitting. Increase regularization (more dropout) or use a smaller network. If the training and validation losses are close, you're underfitting so you can increase the size of the network."
      ]
    },
    {
      "cell_type": "markdown",
      "metadata": {
        "id": "Yow49vQgWx9D",
        "colab_type": "text"
      },
      "source": [
        "## Hyperparameters\n",
        "\n",
        "Here are the hyperparameters for the network.\n",
        "\n",
        "In defining the model:\n",
        "* `n_hidden` - The number of units in the hidden layers.\n",
        "* `n_layers` - Number of hidden LSTM layers to use.\n",
        "\n",
        "We assume that dropout probability and learning rate will be kept at the default, in this example.\n",
        "\n",
        "And in training:\n",
        "* `batch_size` - Number of sequences running through the network in one pass.\n",
        "* `seq_length` - Number of characters in the sequence the network is trained on. Larger is better typically, the network will learn more long range dependencies. But it takes longer to train. 100 is typically a good number here.\n",
        "* `lr` - Learning rate for training\n",
        "\n",
        "Here's some good advice from Andrej Karpathy on training the network. I'm going to copy it in here for your benefit, but also link to [where it originally came from](https://github.com/karpathy/char-rnn#tips-and-tricks).\n",
        "\n",
        "> ## Tips and Tricks\n",
        "\n",
        ">### Monitoring Validation Loss vs. Training Loss\n",
        ">If you're somewhat new to Machine Learning or Neural Networks it can take a bit of expertise to get good models. The most important quantity to keep track of is the difference between your training loss (printed during training) and the validation loss (printed once in a while when the RNN is run on the validation data (by default every 1000 iterations)). In particular:\n",
        "\n",
        "> - If your training loss is much lower than validation loss then this means the network might be **overfitting**. Solutions to this are to decrease your network size, or to increase dropout. For example you could try dropout of 0.5 and so on.\n",
        "> - If your training/validation loss are about equal then your model is **underfitting**. Increase the size of your model (either number of layers or the raw number of neurons per layer)\n",
        "\n",
        "> ### Approximate number of parameters\n",
        "\n",
        "> The two most important parameters that control the model are `n_hidden` and `n_layers`. I would advise that you always use `n_layers` of either 2/3. The `n_hidden` can be adjusted based on how much data you have. The two important quantities to keep track of here are:\n",
        "\n",
        "> - The number of parameters in your model. This is printed when you start training.\n",
        "> - The size of your dataset. 1MB file is approximately 1 million characters.\n",
        "\n",
        ">These two should be about the same order of magnitude. It's a little tricky to tell. Here are some examples:\n",
        "\n",
        "> - I have a 100MB dataset and I'm using the default parameter settings (which currently print 150K parameters). My data size is significantly larger (100 mil >> 0.15 mil), so I expect to heavily underfit. I am thinking I can comfortably afford to make `n_hidden` larger.\n",
        "> - I have a 10MB dataset and running a 10 million parameter model. I'm slightly nervous and I'm carefully monitoring my validation loss. If it's larger than my training loss then I may want to try to increase dropout a bit and see if that helps the validation loss.\n",
        "\n",
        "> ### Best models strategy\n",
        "\n",
        ">The winning strategy to obtaining very good models (if you have the compute time) is to always err on making the network larger (as large as you're willing to wait for it to compute) and then try different dropout values (between 0,1). Whatever model has the best validation performance (the loss, written in the checkpoint filename, low is good) is the one you should use in the end.\n",
        "\n",
        ">It is very common in deep learning to run many different models with many different hyperparameter settings, and in the end take whatever checkpoint gave the best validation performance.\n",
        "\n",
        ">By the way, the size of your training and validation splits are also parameters. Make sure you have a decent amount of data in your validation set or otherwise the validation performance will be noisy and not very informative."
      ]
    },
    {
      "cell_type": "markdown",
      "metadata": {
        "id": "snd-x5E9Wx9E",
        "colab_type": "text"
      },
      "source": [
        "## Checkpoint\n",
        "\n",
        "After training, we'll save the model so we can load it again later if we need too. Here I'm saving the parameters needed to create the same architecture, the hidden layer hyperparameters and the text characters."
      ]
    },
    {
      "cell_type": "code",
      "metadata": {
        "id": "tb8Rp6FFWx9E",
        "colab_type": "code",
        "colab": {}
      },
      "source": [
        "# change the name, for saving multiple files\n",
        "model_name = 'rnn_x_epoch.net'\n",
        "\n",
        "checkpoint = {'n_hidden': net.n_hidden,\n",
        "              'n_layers': net.n_layers,\n",
        "              'state_dict': net.state_dict(),\n",
        "              'tokens': net.chars}\n",
        "\n",
        "with open(model_name, 'wb') as f:\n",
        "    torch.save(checkpoint, f)"
      ],
      "execution_count": 22,
      "outputs": []
    },
    {
      "cell_type": "markdown",
      "metadata": {
        "id": "b00RsI3NWx9G",
        "colab_type": "text"
      },
      "source": [
        "---\n",
        "## Making Predictions\n",
        "\n",
        "Now that the model is trained, we'll want to sample from it and make predictions about next characters! To sample, we pass in a character and have the network predict the next character. Then we take that character, pass it back in, and get another predicted character. Just keep doing this and you'll generate a bunch of text!\n",
        "\n",
        "### A note on the `predict`  function\n",
        "\n",
        "The output of our RNN is from a fully-connected layer and it outputs a **distribution of next-character scores**.\n",
        "\n",
        "> To actually get the next character, we apply a softmax function, which gives us a *probability* distribution that we can then sample to predict the next character.\n",
        "\n",
        "### Top K sampling\n",
        "\n",
        "Our predictions come from a categorical probability distribution over all the possible characters. We can make the sample text and make it more reasonable to handle (with less variables) by only considering some $K$ most probable characters. This will prevent the network from giving us completely absurd characters while allowing it to introduce some noise and randomness into the sampled text. Read more about [topk, here](https://pytorch.org/docs/stable/torch.html#torch.topk).\n"
      ]
    },
    {
      "cell_type": "code",
      "metadata": {
        "id": "Sm5-1zKyWx9H",
        "colab_type": "code",
        "colab": {}
      },
      "source": [
        "def predict(net, char, h=None, top_k=None):\n",
        "        ''' Given a character, predict the next character.\n",
        "            Returns the predicted character and the hidden state.\n",
        "        '''\n",
        "        \n",
        "        # tensor inputs\n",
        "        x = np.array([[net.char2int[char]]])\n",
        "        x = one_hot_encode(x, len(net.chars))\n",
        "        inputs = torch.from_numpy(x)\n",
        "        \n",
        "        if(train_on_gpu):\n",
        "            inputs = inputs.cuda()\n",
        "        \n",
        "        # detach hidden state from history\n",
        "        h = tuple([each.data for each in h])\n",
        "        # get the output of the model\n",
        "        out, h = net(inputs, h)\n",
        "\n",
        "        # get the character probabilities\n",
        "        p = F.softmax(out, dim=1).data\n",
        "        if(train_on_gpu):\n",
        "            p = p.cpu() # move to cpu\n",
        "        \n",
        "        # get top characters\n",
        "        if top_k is None:\n",
        "            top_ch = np.arange(len(net.chars))\n",
        "        else:\n",
        "            p, top_ch = p.topk(top_k)\n",
        "            top_ch = top_ch.numpy().squeeze()\n",
        "        \n",
        "        # select the likely next character with some element of randomness\n",
        "        p = p.numpy().squeeze()\n",
        "        char = np.random.choice(top_ch, p=p/p.sum())\n",
        "        \n",
        "        # return the encoded value of the predicted char and the hidden state\n",
        "        return net.int2char[char], h"
      ],
      "execution_count": 23,
      "outputs": []
    },
    {
      "cell_type": "markdown",
      "metadata": {
        "id": "qMEm0MiTWx9J",
        "colab_type": "text"
      },
      "source": [
        "### Priming and generating text \n",
        "\n",
        "Typically you'll want to prime the network so you can build up a hidden state. Otherwise the network will start out generating characters at random. In general the first bunch of characters will be a little rough since it hasn't built up a long history of characters to predict from."
      ]
    },
    {
      "cell_type": "code",
      "metadata": {
        "id": "D4EVCe1dWx9J",
        "colab_type": "code",
        "colab": {}
      },
      "source": [
        "def sample(net, size, prime='The', top_k=None):\n",
        "        \n",
        "    if(train_on_gpu):\n",
        "        net.cuda()\n",
        "    else:\n",
        "        net.cpu()\n",
        "    \n",
        "    net.eval() # eval mode\n",
        "    \n",
        "    # First off, run through the prime characters\n",
        "    chars = [ch for ch in prime]\n",
        "    h = net.init_hidden(1)\n",
        "    for ch in prime:\n",
        "        char, h = predict(net, ch, h, top_k=top_k)\n",
        "\n",
        "    chars.append(char)\n",
        "    \n",
        "    # Now pass in the previous character and get a new one\n",
        "    for ii in range(size):\n",
        "        char, h = predict(net, chars[-1], h, top_k=top_k)\n",
        "        chars.append(char)\n",
        "\n",
        "    return ''.join(chars)"
      ],
      "execution_count": 24,
      "outputs": []
    },
    {
      "cell_type": "code",
      "metadata": {
        "id": "qTi33kTVWx9N",
        "colab_type": "code",
        "colab": {
          "base_uri": "https://localhost:8080/",
          "height": 318
        },
        "outputId": "cd7cb609-ee6e-42c1-954d-de862fae7ff2"
      },
      "source": [
        "print(sample(net, 1000, prime='Anna', top_k=5))"
      ],
      "execution_count": 25,
      "outputs": [
        {
          "output_type": "stream",
          "text": [
            "Anna were finished\n",
            "into her hundred in his hand. And still had already song the crowd,\n",
            "and then when the most tenderness and some of several common hostess\n",
            "of the country was that this meaning of the fine sincer is not her.\n",
            "\n",
            "He saw that the conversation, highly broken him. He could never say that\n",
            "she had never disapprecented that she was a large conversation in the corter.\n",
            "This idea of the mushreaster were new conditions. She dreamed to the\n",
            "man she was all the same second as it was not the most time in which he\n",
            "would still to be anyone to be a son, and was not the crowd, and to comprehend\n",
            "the matter, and was a long while shaked into a party to a strong, significance of\n",
            "the\n",
            "made with simply which his hands, to be seet all the fear and discissunted\n",
            "talk, but a later, who was for a mistake both, but he could not be all these\n",
            "princess was a sister, and all these words, something that he was a peasant\n",
            "through the fashion of water. But she was answered with this\n",
            "moust of secunias, as though he ha\n"
          ],
          "name": "stdout"
        }
      ]
    },
    {
      "cell_type": "markdown",
      "metadata": {
        "id": "7x3rfoRHWx9Q",
        "colab_type": "text"
      },
      "source": [
        "## Loading a checkpoint"
      ]
    },
    {
      "cell_type": "code",
      "metadata": {
        "id": "EtHZx8h2Wx9Q",
        "colab_type": "code",
        "colab": {
          "base_uri": "https://localhost:8080/",
          "height": 34
        },
        "outputId": "9a12489a-31e4-4e9c-d135-69fd07385852"
      },
      "source": [
        "# Here we have loaded in a model that trained over 20 epochs `rnn_20_epoch.net`\n",
        "with open('rnn_x_epoch.net', 'rb') as f:\n",
        "    checkpoint = torch.load(f)\n",
        "    \n",
        "loaded = CharRNN(checkpoint['tokens'], n_hidden=checkpoint['n_hidden'], n_layers=checkpoint['n_layers'])\n",
        "loaded.load_state_dict(checkpoint['state_dict'])"
      ],
      "execution_count": 26,
      "outputs": [
        {
          "output_type": "execute_result",
          "data": {
            "text/plain": [
              "<All keys matched successfully>"
            ]
          },
          "metadata": {
            "tags": []
          },
          "execution_count": 26
        }
      ]
    },
    {
      "cell_type": "code",
      "metadata": {
        "id": "_cnPzij6Wx9U",
        "colab_type": "code",
        "colab": {
          "base_uri": "https://localhost:8080/",
          "height": 710
        },
        "outputId": "0df78f25-44ca-4665-e655-c23c58434509"
      },
      "source": [
        "# Sample using a loaded model\n",
        "print(sample(loaded, 2000, top_k=5, prime=\"And Levin said\"))"
      ],
      "execution_count": 27,
      "outputs": [
        {
          "output_type": "stream",
          "text": [
            "And Levin said that it\n",
            "cersared his brother, till the past through the complete chair to anything\n",
            "about. But he could not be taken a child, but were that there ought to\n",
            "be a stretged of he had not been a carestable carrying and caming\n",
            "into her sister-asticate, time to be that in society in the convictions of\n",
            "the same time had said, and that he had been so puting her husband, as the\n",
            "laborer had been suppored in which the contrary had bore to talk over the\n",
            "choil of her haste, and he was to come to him that the cold came on the first\n",
            "too sight, and transproved the brother's companion that to compass on his\n",
            "wife's face, and he was the buttle to her, and was talking to\n",
            "him, would attracted him. And she cleanned and sawing the face\n",
            "was thinking of to assist her and settled the moment the carriage of\n",
            "comprehending to sumpor the sound of his sing word.\n",
            "\n",
            "\"I am to gave the man as the porter so all the position would have\n",
            "tome for anything over. It said had said. To much a pretend in\n",
            "the memory of military carriage. I would say together. And he's\n",
            "been an amount for my any too many as a little than anything, and I shall\n",
            "be a proce to be an entricien of the corn room. I was so sorry the\n",
            "members.\n",
            "\n",
            "She had seen.\n",
            "\n",
            "\"I desire that I wanted to stay that I don't bring this memory and such\n",
            "such as a long-which,\" said Stepan Arkadyevitch, \"my subject. And\n",
            "I heard that I should be seemed. And it's not to be the strange to\n",
            "say something. And what do you are a letter?\"\n",
            "\n",
            "\"You drink a mother,\" said Alexey\n",
            "Alexandrovitch, waiting at his stand of all, and she could not see anywnere\n",
            "feeling with all his fingers, he saw that he had not speaking asking\n",
            "a little. \"Well, how in your celser, in the servants,\" thought Vronsky with\n",
            "a\n",
            "chain of hand, heard a long while to blame the sound of some sigh of his hands.\n",
            "\n",
            "This self-presents were the steps said at this state of all the\n",
            "sun, that would be such a patt of conversation in her elections in\n",
            "such a lang of lade, that she, who decorned the perfact of his strong\n",
            "works.\n"
          ],
          "name": "stdout"
        }
      ]
    },
    {
      "cell_type": "code",
      "metadata": {
        "id": "gts3mCkpWx9X",
        "colab_type": "code",
        "colab": {}
      },
      "source": [
        ""
      ],
      "execution_count": null,
      "outputs": []
    }
  ]
}